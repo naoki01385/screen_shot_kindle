{
 "cells": [
  {
   "cell_type": "code",
   "execution_count": 1,
   "metadata": {},
   "outputs": [],
   "source": [
    "import pyautogui as pgui\n",
    "import time\n",
    "import os\n",
    "import datetime"
   ]
  },
  {
   "cell_type": "code",
   "execution_count": 2,
   "metadata": {},
   "outputs": [],
   "source": [
    "def screenshot():\n",
    "    x1, y1 =131,40\n",
    "    x2, y2 = 1307, 868\n",
    "    page = 1000\n",
    "    span = 1\n",
    "    h_foldername = \"output\"\n",
    "    h_filename = \"ページ\"\n",
    "    folder_name = h_foldername + \"_\" + \\\n",
    "        str(datetime.datetime.now().strftime(\"%Y%m%d%H%M%S\"))\n",
    "    os.mkdir(folder_name)\n",
    "    for p in range(page):\n",
    "        # 出力ファイル名(頭文字_連番.png)\n",
    "        out_filename = h_filename + \"_\" + str(p+1).zfill(4) + '.png'\n",
    "        # スクリーンショット取得・保存処理\n",
    "        # キャプチャ範囲： 左上のx座標, 左上のy座標, 幅, 高さ\n",
    "        s = pgui.screenshot(region=(260,128,2350,1570))\n",
    "        # 出力パス： 出力フォルダ名 / 出力ファイル名\n",
    "        s.save(folder_name + '/' + out_filename)\n",
    "        # 右矢印キー押下\n",
    "        pgui.keyDown('right')\n",
    "        # 次のスクリーンショットまで待機\n",
    "        time.sleep(span)\n"
   ]
  },
  {
   "cell_type": "code",
   "execution_count": 3,
   "metadata": {},
   "outputs": [],
   "source": [
    "def open_kindle():\n",
    "    pgui.click(x=1224, y=13 )\n",
    "    pgui.write('kindle')\n",
    "    time.sleep(0.8)\n",
    "    pgui.hotkey('return')\n",
    "    time.sleep(10)\n",
    "    pgui.click(x=51,y=37)\n",
    "    time.sleep(2)\n",
    "    pgui.click(x=134,y=899)"
   ]
  },
  {
   "cell_type": "code",
   "execution_count": 6,
   "metadata": {},
   "outputs": [
    {
     "ename": "KeyboardInterrupt",
     "evalue": "",
     "output_type": "error",
     "traceback": [
      "\u001b[0;31m---------------------------------------------------------------------------\u001b[0m",
      "\u001b[0;31mKeyboardInterrupt\u001b[0m                         Traceback (most recent call last)",
      "\u001b[0;32m/var/folders/l4/fjl5cj3s63gbbh_n2cq316s80000gn/T/ipykernel_60568/2908700986.py\u001b[0m in \u001b[0;36m<module>\u001b[0;34m\u001b[0m\n\u001b[1;32m      2\u001b[0m \u001b[0mopen_kindle\u001b[0m\u001b[0;34m(\u001b[0m\u001b[0;34m)\u001b[0m\u001b[0;34m\u001b[0m\u001b[0;34m\u001b[0m\u001b[0m\n\u001b[1;32m      3\u001b[0m \u001b[0mtime\u001b[0m\u001b[0;34m.\u001b[0m\u001b[0msleep\u001b[0m\u001b[0;34m(\u001b[0m\u001b[0;36m5\u001b[0m\u001b[0;34m)\u001b[0m\u001b[0;34m\u001b[0m\u001b[0;34m\u001b[0m\u001b[0m\n\u001b[0;32m----> 4\u001b[0;31m \u001b[0mscreenshot\u001b[0m\u001b[0;34m(\u001b[0m\u001b[0;34m)\u001b[0m\u001b[0;34m\u001b[0m\u001b[0;34m\u001b[0m\u001b[0m\n\u001b[0m",
      "\u001b[0;32m/var/folders/l4/fjl5cj3s63gbbh_n2cq316s80000gn/T/ipykernel_60568/957730667.py\u001b[0m in \u001b[0;36mscreenshot\u001b[0;34m()\u001b[0m\n\u001b[1;32m     20\u001b[0m         \u001b[0mpgui\u001b[0m\u001b[0;34m.\u001b[0m\u001b[0mkeyDown\u001b[0m\u001b[0;34m(\u001b[0m\u001b[0;34m'right'\u001b[0m\u001b[0;34m)\u001b[0m\u001b[0;34m\u001b[0m\u001b[0;34m\u001b[0m\u001b[0m\n\u001b[1;32m     21\u001b[0m         \u001b[0;31m# 次のスクリーンショットまで待機\u001b[0m\u001b[0;34m\u001b[0m\u001b[0;34m\u001b[0m\u001b[0m\n\u001b[0;32m---> 22\u001b[0;31m         \u001b[0mtime\u001b[0m\u001b[0;34m.\u001b[0m\u001b[0msleep\u001b[0m\u001b[0;34m(\u001b[0m\u001b[0mspan\u001b[0m\u001b[0;34m)\u001b[0m\u001b[0;34m\u001b[0m\u001b[0;34m\u001b[0m\u001b[0m\n\u001b[0m",
      "\u001b[0;31mKeyboardInterrupt\u001b[0m: "
     ]
    }
   ],
   "source": [
    "pgui.FAILSAFE=True\n",
    "open_kindle()\n",
    "time.sleep(5)\n",
    "screenshot()"
   ]
  },
  {
   "cell_type": "markdown",
   "metadata": {},
   "source": []
  }
 ],
 "metadata": {
  "interpreter": {
   "hash": "aee8b7b246df8f9039afb4144a1f6fd8d2ca17a180786b69acc140d282b71a49"
  },
  "kernelspec": {
   "display_name": "Python 3.9.7 64-bit",
   "language": "python",
   "name": "python3"
  },
  "language_info": {
   "codemirror_mode": {
    "name": "ipython",
    "version": 3
   },
   "file_extension": ".py",
   "mimetype": "text/x-python",
   "name": "python",
   "nbconvert_exporter": "python",
   "pygments_lexer": "ipython3",
   "version": "3.9.7"
  },
  "orig_nbformat": 4
 },
 "nbformat": 4,
 "nbformat_minor": 2
}
